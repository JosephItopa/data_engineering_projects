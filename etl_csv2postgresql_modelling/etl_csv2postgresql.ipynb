{
 "cells": [
  {
   "cell_type": "markdown",
   "id": "2ecbf825-da67-4314-8670-9779a37b9eca",
   "metadata": {},
   "source": [
    "#### EXTRACT"
   ]
  },
  {
   "cell_type": "code",
   "execution_count": 1,
   "id": "cf6a5388-ae41-46c9-a309-1d5e337101db",
   "metadata": {},
   "outputs": [],
   "source": [
    "import pandas as pd"
   ]
  },
  {
   "cell_type": "code",
   "execution_count": 2,
   "id": "ad4a1bba-ca2c-4371-bcfa-3fac295b9738",
   "metadata": {},
   "outputs": [
    {
     "data": {
      "text/html": [
       "<div>\n",
       "<style scoped>\n",
       "    .dataframe tbody tr th:only-of-type {\n",
       "        vertical-align: middle;\n",
       "    }\n",
       "\n",
       "    .dataframe tbody tr th {\n",
       "        vertical-align: top;\n",
       "    }\n",
       "\n",
       "    .dataframe thead th {\n",
       "        text-align: right;\n",
       "    }\n",
       "</style>\n",
       "<table border=\"1\" class=\"dataframe\">\n",
       "  <thead>\n",
       "    <tr style=\"text-align: right;\">\n",
       "      <th></th>\n",
       "      <th>TransactionNo</th>\n",
       "      <th>Date</th>\n",
       "      <th>ProductNo</th>\n",
       "      <th>ProductName</th>\n",
       "      <th>Price</th>\n",
       "      <th>Quantity</th>\n",
       "      <th>CustomerNo</th>\n",
       "      <th>Country</th>\n",
       "    </tr>\n",
       "  </thead>\n",
       "  <tbody>\n",
       "    <tr>\n",
       "      <th>0</th>\n",
       "      <td>581482</td>\n",
       "      <td>12/9/2019</td>\n",
       "      <td>22485</td>\n",
       "      <td>Set Of 2 Wooden Market Crates</td>\n",
       "      <td>21.47</td>\n",
       "      <td>12</td>\n",
       "      <td>17490.0</td>\n",
       "      <td>United Kingdom</td>\n",
       "    </tr>\n",
       "    <tr>\n",
       "      <th>1</th>\n",
       "      <td>581475</td>\n",
       "      <td>12/9/2019</td>\n",
       "      <td>22596</td>\n",
       "      <td>Christmas Star Wish List Chalkboard</td>\n",
       "      <td>10.65</td>\n",
       "      <td>36</td>\n",
       "      <td>13069.0</td>\n",
       "      <td>United Kingdom</td>\n",
       "    </tr>\n",
       "    <tr>\n",
       "      <th>2</th>\n",
       "      <td>581475</td>\n",
       "      <td>12/9/2019</td>\n",
       "      <td>23235</td>\n",
       "      <td>Storage Tin Vintage Leaf</td>\n",
       "      <td>11.53</td>\n",
       "      <td>12</td>\n",
       "      <td>13069.0</td>\n",
       "      <td>United Kingdom</td>\n",
       "    </tr>\n",
       "    <tr>\n",
       "      <th>3</th>\n",
       "      <td>581475</td>\n",
       "      <td>12/9/2019</td>\n",
       "      <td>23272</td>\n",
       "      <td>Tree T-Light Holder Willie Winkie</td>\n",
       "      <td>10.65</td>\n",
       "      <td>12</td>\n",
       "      <td>13069.0</td>\n",
       "      <td>United Kingdom</td>\n",
       "    </tr>\n",
       "    <tr>\n",
       "      <th>4</th>\n",
       "      <td>581475</td>\n",
       "      <td>12/9/2019</td>\n",
       "      <td>23239</td>\n",
       "      <td>Set Of 4 Knick Knack Tins Poppies</td>\n",
       "      <td>11.94</td>\n",
       "      <td>6</td>\n",
       "      <td>13069.0</td>\n",
       "      <td>United Kingdom</td>\n",
       "    </tr>\n",
       "  </tbody>\n",
       "</table>\n",
       "</div>"
      ],
      "text/plain": [
       "  TransactionNo       Date ProductNo                          ProductName  \\\n",
       "0        581482  12/9/2019     22485        Set Of 2 Wooden Market Crates   \n",
       "1        581475  12/9/2019     22596  Christmas Star Wish List Chalkboard   \n",
       "2        581475  12/9/2019     23235             Storage Tin Vintage Leaf   \n",
       "3        581475  12/9/2019     23272    Tree T-Light Holder Willie Winkie   \n",
       "4        581475  12/9/2019     23239    Set Of 4 Knick Knack Tins Poppies   \n",
       "\n",
       "   Price  Quantity  CustomerNo         Country  \n",
       "0  21.47        12     17490.0  United Kingdom  \n",
       "1  10.65        36     13069.0  United Kingdom  \n",
       "2  11.53        12     13069.0  United Kingdom  \n",
       "3  10.65        12     13069.0  United Kingdom  \n",
       "4  11.94         6     13069.0  United Kingdom  "
      ]
     },
     "execution_count": 2,
     "metadata": {},
     "output_type": "execute_result"
    }
   ],
   "source": [
    "df = pd.read_csv(\"data/Sales Transaction v.4a.csv\")\n",
    "df.head()"
   ]
  },
  {
   "cell_type": "code",
   "execution_count": 3,
   "id": "5dafb93a-3b42-4192-898f-7d6c9876f380",
   "metadata": {},
   "outputs": [
    {
     "data": {
      "text/plain": [
       "(536350, 8)"
      ]
     },
     "execution_count": 3,
     "metadata": {},
     "output_type": "execute_result"
    }
   ],
   "source": [
    "df.shape"
   ]
  },
  {
   "cell_type": "code",
   "execution_count": 4,
   "id": "47d4c6d0-f508-4278-8d32-be363b4c54e6",
   "metadata": {},
   "outputs": [
    {
     "name": "stdout",
     "output_type": "stream",
     "text": [
      "<class 'pandas.core.frame.DataFrame'>\n",
      "RangeIndex: 536350 entries, 0 to 536349\n",
      "Data columns (total 8 columns):\n",
      " #   Column         Non-Null Count   Dtype  \n",
      "---  ------         --------------   -----  \n",
      " 0   TransactionNo  536350 non-null  object \n",
      " 1   Date           536350 non-null  object \n",
      " 2   ProductNo      536350 non-null  object \n",
      " 3   ProductName    536350 non-null  object \n",
      " 4   Price          536350 non-null  float64\n",
      " 5   Quantity       536350 non-null  int64  \n",
      " 6   CustomerNo     536295 non-null  float64\n",
      " 7   Country        536350 non-null  object \n",
      "dtypes: float64(2), int64(1), object(5)\n",
      "memory usage: 32.7+ MB\n"
     ]
    }
   ],
   "source": [
    "df.info()"
   ]
  },
  {
   "cell_type": "markdown",
   "id": "a4ceda23-9981-42b9-954a-b3c78f4d8314",
   "metadata": {},
   "source": [
    "#### Desc of DataFrame\n",
    "\n",
    "1. TransactionNo (categorical): a six-digit unique number that defines each transaction. The letter “C” in the code indicates a cancellation.\n",
    "1. Date (numeric): the date when each transaction was generated.\n",
    "1. ProductNo (categorical): a five or six-digit unique character used to identify a specific product.\n",
    "1. Product (categorical): product/item name.\n",
    "1. Price (numeric): the price of each product per unit in pound sterling (£).\n",
    "1. Quantity (numeric): the quantity of each product per transaction. Negative values related to cancelled transactions.\n",
    "1. CustomerNo (categorical): a five-digit unique number that defines each customer.\n",
    "1. Country (categorical): name of the country where the customer resides."
   ]
  },
  {
   "cell_type": "markdown",
   "id": "ce2423fa-9107-45aa-bb56-2120365348d6",
   "metadata": {},
   "source": [
    "#### TRANSFORM"
   ]
  },
  {
   "cell_type": "code",
   "execution_count": 5,
   "id": "46276004-4b5c-430b-8f05-d71cc4052d69",
   "metadata": {},
   "outputs": [],
   "source": [
    "df = df.rename(columns={\"TransactionNo\": \"transaction_id\", \"Date\": \"date\", \"ProductNo\": \"product_id\",\n",
    "                        \"ProductName\": \"name\", \"Price\": \"price\", \"Quantity\": \"quantity\", \n",
    "                        \"CustomerNo\": \"customer_id\", \"Country\": \"country\"})"
   ]
  },
  {
   "cell_type": "code",
   "execution_count": 6,
   "id": "40f4a964-315d-48cf-9f99-fc8b3e7ac120",
   "metadata": {},
   "outputs": [
    {
     "name": "stdout",
     "output_type": "stream",
     "text": [
      "<class 'pandas.core.frame.DataFrame'>\n",
      "RangeIndex: 536350 entries, 0 to 536349\n",
      "Data columns (total 8 columns):\n",
      " #   Column          Non-Null Count   Dtype  \n",
      "---  ------          --------------   -----  \n",
      " 0   transaction_id  536350 non-null  object \n",
      " 1   date            536350 non-null  object \n",
      " 2   product_id      536350 non-null  object \n",
      " 3   name            536350 non-null  object \n",
      " 4   price           536350 non-null  float64\n",
      " 5   quantity        536350 non-null  int64  \n",
      " 6   customer_id     536295 non-null  float64\n",
      " 7   country         536350 non-null  object \n",
      "dtypes: float64(2), int64(1), object(5)\n",
      "memory usage: 32.7+ MB\n"
     ]
    }
   ],
   "source": [
    "df.info()"
   ]
  },
  {
   "cell_type": "code",
   "execution_count": 7,
   "id": "071d5e35-0ba7-41ce-8e6a-48e0269f56fc",
   "metadata": {},
   "outputs": [
    {
     "data": {
      "text/plain": [
       "(531150, 8)"
      ]
     },
     "execution_count": 7,
     "metadata": {},
     "output_type": "execute_result"
    }
   ],
   "source": [
    "df = df.drop_duplicates()\n",
    "df.shape"
   ]
  },
  {
   "cell_type": "code",
   "execution_count": 8,
   "id": "63dbeb7c-1a66-473f-a7db-75ee8a8d4ffb",
   "metadata": {},
   "outputs": [
    {
     "data": {
      "text/plain": [
       "transaction_id     0\n",
       "date               0\n",
       "product_id         0\n",
       "name               0\n",
       "price              0\n",
       "quantity           0\n",
       "customer_id       55\n",
       "country            0\n",
       "dtype: int64"
      ]
     },
     "execution_count": 8,
     "metadata": {},
     "output_type": "execute_result"
    }
   ],
   "source": [
    "df.isnull().sum()"
   ]
  },
  {
   "cell_type": "code",
   "execution_count": 9,
   "id": "f5a65557-1d2e-4920-9bf4-ec72ed887ddc",
   "metadata": {},
   "outputs": [
    {
     "data": {
      "text/html": [
       "<div>\n",
       "<style scoped>\n",
       "    .dataframe tbody tr th:only-of-type {\n",
       "        vertical-align: middle;\n",
       "    }\n",
       "\n",
       "    .dataframe tbody tr th {\n",
       "        vertical-align: top;\n",
       "    }\n",
       "\n",
       "    .dataframe thead th {\n",
       "        text-align: right;\n",
       "    }\n",
       "</style>\n",
       "<table border=\"1\" class=\"dataframe\">\n",
       "  <thead>\n",
       "    <tr style=\"text-align: right;\">\n",
       "      <th></th>\n",
       "      <th>transaction_id</th>\n",
       "      <th>date</th>\n",
       "      <th>product_id</th>\n",
       "      <th>name</th>\n",
       "      <th>price</th>\n",
       "      <th>quantity</th>\n",
       "      <th>customer_id</th>\n",
       "      <th>country</th>\n",
       "    </tr>\n",
       "  </thead>\n",
       "  <tbody>\n",
       "    <tr>\n",
       "      <th>6511</th>\n",
       "      <td>C581406</td>\n",
       "      <td>12/8/2019</td>\n",
       "      <td>46000M</td>\n",
       "      <td>Polyester Filler Pad 45x45cm</td>\n",
       "      <td>6.19</td>\n",
       "      <td>-240</td>\n",
       "      <td>NaN</td>\n",
       "      <td>United Kingdom</td>\n",
       "    </tr>\n",
       "    <tr>\n",
       "      <th>6512</th>\n",
       "      <td>C581406</td>\n",
       "      <td>12/8/2019</td>\n",
       "      <td>46000S</td>\n",
       "      <td>Polyester Filler Pad 40x40cm</td>\n",
       "      <td>6.19</td>\n",
       "      <td>-300</td>\n",
       "      <td>NaN</td>\n",
       "      <td>United Kingdom</td>\n",
       "    </tr>\n",
       "    <tr>\n",
       "      <th>90098</th>\n",
       "      <td>C575153</td>\n",
       "      <td>11/8/2019</td>\n",
       "      <td>22947</td>\n",
       "      <td>Wooden Advent Calendar Red</td>\n",
       "      <td>44.25</td>\n",
       "      <td>-1</td>\n",
       "      <td>NaN</td>\n",
       "      <td>United Kingdom</td>\n",
       "    </tr>\n",
       "    <tr>\n",
       "      <th>102671</th>\n",
       "      <td>C574288</td>\n",
       "      <td>11/3/2019</td>\n",
       "      <td>22178</td>\n",
       "      <td>Victorian Glass Hanging T-Light</td>\n",
       "      <td>25.37</td>\n",
       "      <td>-1</td>\n",
       "      <td>NaN</td>\n",
       "      <td>United Kingdom</td>\n",
       "    </tr>\n",
       "    <tr>\n",
       "      <th>117263</th>\n",
       "      <td>C573180</td>\n",
       "      <td>10/28/2019</td>\n",
       "      <td>23048</td>\n",
       "      <td>Set Of 10 Lanterns Fairy Light Star</td>\n",
       "      <td>14.50</td>\n",
       "      <td>-1</td>\n",
       "      <td>NaN</td>\n",
       "      <td>United Kingdom</td>\n",
       "    </tr>\n",
       "  </tbody>\n",
       "</table>\n",
       "</div>"
      ],
      "text/plain": [
       "       transaction_id        date product_id  \\\n",
       "6511          C581406   12/8/2019     46000M   \n",
       "6512          C581406   12/8/2019     46000S   \n",
       "90098         C575153   11/8/2019      22947   \n",
       "102671        C574288   11/3/2019      22178   \n",
       "117263        C573180  10/28/2019      23048   \n",
       "\n",
       "                                       name  price  quantity  customer_id  \\\n",
       "6511           Polyester Filler Pad 45x45cm   6.19      -240          NaN   \n",
       "6512           Polyester Filler Pad 40x40cm   6.19      -300          NaN   \n",
       "90098            Wooden Advent Calendar Red  44.25        -1          NaN   \n",
       "102671      Victorian Glass Hanging T-Light  25.37        -1          NaN   \n",
       "117263  Set Of 10 Lanterns Fairy Light Star  14.50        -1          NaN   \n",
       "\n",
       "               country  \n",
       "6511    United Kingdom  \n",
       "6512    United Kingdom  \n",
       "90098   United Kingdom  \n",
       "102671  United Kingdom  \n",
       "117263  United Kingdom  "
      ]
     },
     "execution_count": 9,
     "metadata": {},
     "output_type": "execute_result"
    }
   ],
   "source": [
    "df.loc[\n",
    "    df[\"customer_id\"].isnull()\n",
    "].head()"
   ]
  },
  {
   "cell_type": "code",
   "execution_count": 11,
   "id": "cd532857-69e5-4e07-a173-1b668212f113",
   "metadata": {},
   "outputs": [],
   "source": [
    "customer_nan = df.loc[\n",
    "    df[\"customer_id\"].isnull()\n",
    "].index"
   ]
  },
  {
   "cell_type": "code",
   "execution_count": 12,
   "id": "593e7675-1afc-413f-a4d1-1344b5166aa2",
   "metadata": {},
   "outputs": [],
   "source": [
    "df.drop(customer_nan, inplace=True)"
   ]
  },
  {
   "cell_type": "code",
   "execution_count": 13,
   "id": "f26172d5-4dd0-4140-a0a2-b8240bcec0a7",
   "metadata": {},
   "outputs": [
    {
     "data": {
      "text/plain": [
       "(531095, 8)"
      ]
     },
     "execution_count": 13,
     "metadata": {},
     "output_type": "execute_result"
    }
   ],
   "source": [
    "df.shape"
   ]
  },
  {
   "cell_type": "markdown",
   "id": "52ac1fff-846c-402c-87b0-8197a3146ca3",
   "metadata": {},
   "source": [
    "#### Dealing with Unmatched Data"
   ]
  },
  {
   "cell_type": "code",
   "execution_count": 14,
   "id": "a88cbc43-a736-4df9-a86f-0ee8141e7eca",
   "metadata": {},
   "outputs": [
    {
     "data": {
      "text/plain": [
       "(8494, 8)"
      ]
     },
     "execution_count": 14,
     "metadata": {},
     "output_type": "execute_result"
    }
   ],
   "source": [
    "df.loc[\n",
    "    df[\"transaction_id\"].str.contains(\"C\")\n",
    "].shape"
   ]
  },
  {
   "cell_type": "code",
   "execution_count": 15,
   "id": "33dba444-461c-466c-afbe-fbb682e1f06d",
   "metadata": {},
   "outputs": [],
   "source": [
    "c_trans = df.loc[\n",
    "    df[\"transaction_id\"].str.contains(\"C\")\n",
    "].index"
   ]
  },
  {
   "cell_type": "code",
   "execution_count": 16,
   "id": "be93466f-438e-46ca-9945-dbf7a38c4b2f",
   "metadata": {},
   "outputs": [],
   "source": [
    "df.drop(c_trans, inplace=True)"
   ]
  },
  {
   "cell_type": "code",
   "execution_count": 17,
   "id": "40d53c59-9ad8-4890-b379-679d73e4286c",
   "metadata": {},
   "outputs": [
    {
     "data": {
      "text/plain": [
       "(0, 8)"
      ]
     },
     "execution_count": 17,
     "metadata": {},
     "output_type": "execute_result"
    }
   ],
   "source": [
    "df.loc[\n",
    "    df[\"quantity\"] <= 0\n",
    "].shape"
   ]
  },
  {
   "cell_type": "code",
   "execution_count": 18,
   "id": "d7fd2624-83df-4fb2-8190-2604eba24a97",
   "metadata": {},
   "outputs": [
    {
     "data": {
      "text/plain": [
       "(522601, 8)"
      ]
     },
     "execution_count": 18,
     "metadata": {},
     "output_type": "execute_result"
    }
   ],
   "source": [
    "df.shape"
   ]
  },
  {
   "cell_type": "markdown",
   "id": "83a597a8-200f-4e2f-af67-9e4a14df3546",
   "metadata": {},
   "source": [
    "#### Data Type Casting"
   ]
  },
  {
   "cell_type": "code",
   "execution_count": 19,
   "id": "8996c7c6-ef54-45a6-9267-3d805f7aa53e",
   "metadata": {},
   "outputs": [],
   "source": [
    "df = df.astype({\"transaction_id\": int, \"customer_id\": int})\n",
    "df[\"date\"] = pd.to_datetime(df[\"date\"], format=\"%m/%d/%Y\")"
   ]
  },
  {
   "cell_type": "code",
   "execution_count": 20,
   "id": "f771d014-1f3d-4b8d-8acc-3dc3bb63505a",
   "metadata": {},
   "outputs": [
    {
     "data": {
      "text/plain": [
       "transaction_id             int64\n",
       "date              datetime64[ns]\n",
       "product_id                object\n",
       "name                      object\n",
       "price                    float64\n",
       "quantity                   int64\n",
       "customer_id                int64\n",
       "country                   object\n",
       "dtype: object"
      ]
     },
     "execution_count": 20,
     "metadata": {},
     "output_type": "execute_result"
    }
   ],
   "source": [
    "df.dtypes"
   ]
  },
  {
   "cell_type": "code",
   "execution_count": 21,
   "id": "2578fca6-fd8d-439e-a5af-55b3381ca57b",
   "metadata": {},
   "outputs": [],
   "source": [
    "product_unique = df.loc[\n",
    "    ~df[[\"product_id\", \"name\", \"price\"]].duplicated()\n",
    "]"
   ]
  },
  {
   "cell_type": "code",
   "execution_count": 22,
   "id": "d7151f35-6c9c-4f48-8492-14279aaecf12",
   "metadata": {},
   "outputs": [
    {
     "data": {
      "text/html": [
       "<div>\n",
       "<style scoped>\n",
       "    .dataframe tbody tr th:only-of-type {\n",
       "        vertical-align: middle;\n",
       "    }\n",
       "\n",
       "    .dataframe tbody tr th {\n",
       "        vertical-align: top;\n",
       "    }\n",
       "\n",
       "    .dataframe thead th {\n",
       "        text-align: right;\n",
       "    }\n",
       "</style>\n",
       "<table border=\"1\" class=\"dataframe\">\n",
       "  <thead>\n",
       "    <tr style=\"text-align: right;\">\n",
       "      <th></th>\n",
       "      <th>transaction_id</th>\n",
       "      <th>date</th>\n",
       "      <th>product_id</th>\n",
       "      <th>name</th>\n",
       "      <th>price</th>\n",
       "      <th>quantity</th>\n",
       "      <th>customer_id</th>\n",
       "      <th>country</th>\n",
       "    </tr>\n",
       "  </thead>\n",
       "  <tbody>\n",
       "    <tr>\n",
       "      <th>507047</th>\n",
       "      <td>538877</td>\n",
       "      <td>2018-12-14</td>\n",
       "      <td>22418</td>\n",
       "      <td>10 Colour Spaceboy Pen</td>\n",
       "      <td>12.82</td>\n",
       "      <td>2</td>\n",
       "      <td>14877</td>\n",
       "      <td>United Kingdom</td>\n",
       "    </tr>\n",
       "    <tr>\n",
       "      <th>491632</th>\n",
       "      <td>540154</td>\n",
       "      <td>2019-01-05</td>\n",
       "      <td>22418</td>\n",
       "      <td>10 Colour Spaceboy Pen</td>\n",
       "      <td>11.95</td>\n",
       "      <td>2</td>\n",
       "      <td>12154</td>\n",
       "      <td>United Kingdom</td>\n",
       "    </tr>\n",
       "    <tr>\n",
       "      <th>130922</th>\n",
       "      <td>572035</td>\n",
       "      <td>2019-10-20</td>\n",
       "      <td>22418</td>\n",
       "      <td>10 Colour Spaceboy Pen</td>\n",
       "      <td>10.99</td>\n",
       "      <td>144</td>\n",
       "      <td>14646</td>\n",
       "      <td>Netherlands</td>\n",
       "    </tr>\n",
       "    <tr>\n",
       "      <th>94877</th>\n",
       "      <td>574856</td>\n",
       "      <td>2019-11-07</td>\n",
       "      <td>22418</td>\n",
       "      <td>10 Colour Spaceboy Pen</td>\n",
       "      <td>12.77</td>\n",
       "      <td>2</td>\n",
       "      <td>17856</td>\n",
       "      <td>United Kingdom</td>\n",
       "    </tr>\n",
       "    <tr>\n",
       "      <th>52165</th>\n",
       "      <td>578067</td>\n",
       "      <td>2019-11-22</td>\n",
       "      <td>22418</td>\n",
       "      <td>10 Colour Spaceboy Pen</td>\n",
       "      <td>11.92</td>\n",
       "      <td>1</td>\n",
       "      <td>12067</td>\n",
       "      <td>United Kingdom</td>\n",
       "    </tr>\n",
       "  </tbody>\n",
       "</table>\n",
       "</div>"
      ],
      "text/plain": [
       "        transaction_id       date product_id                    name  price  \\\n",
       "507047          538877 2018-12-14      22418  10 Colour Spaceboy Pen  12.82   \n",
       "491632          540154 2019-01-05      22418  10 Colour Spaceboy Pen  11.95   \n",
       "130922          572035 2019-10-20      22418  10 Colour Spaceboy Pen  10.99   \n",
       "94877           574856 2019-11-07      22418  10 Colour Spaceboy Pen  12.77   \n",
       "52165           578067 2019-11-22      22418  10 Colour Spaceboy Pen  11.92   \n",
       "\n",
       "        quantity  customer_id         country  \n",
       "507047         2        14877  United Kingdom  \n",
       "491632         2        12154  United Kingdom  \n",
       "130922       144        14646     Netherlands  \n",
       "94877          2        17856  United Kingdom  \n",
       "52165          1        12067  United Kingdom  "
      ]
     },
     "execution_count": 22,
     "metadata": {},
     "output_type": "execute_result"
    }
   ],
   "source": [
    "product_unique.sort_values(by=[\"name\", \"date\"]).head()"
   ]
  },
  {
   "cell_type": "code",
   "execution_count": 23,
   "id": "c152e6d3-2831-402b-b7e6-086979d28843",
   "metadata": {},
   "outputs": [
    {
     "data": {
      "text/html": [
       "<div>\n",
       "<style scoped>\n",
       "    .dataframe tbody tr th:only-of-type {\n",
       "        vertical-align: middle;\n",
       "    }\n",
       "\n",
       "    .dataframe tbody tr th {\n",
       "        vertical-align: top;\n",
       "    }\n",
       "\n",
       "    .dataframe thead th {\n",
       "        text-align: right;\n",
       "    }\n",
       "</style>\n",
       "<table border=\"1\" class=\"dataframe\">\n",
       "  <thead>\n",
       "    <tr style=\"text-align: right;\">\n",
       "      <th></th>\n",
       "      <th>date</th>\n",
       "      <th>product_id</th>\n",
       "      <th>name</th>\n",
       "      <th>price</th>\n",
       "    </tr>\n",
       "  </thead>\n",
       "  <tbody>\n",
       "    <tr>\n",
       "      <th>533683</th>\n",
       "      <td>2018-12-01</td>\n",
       "      <td>22418</td>\n",
       "      <td>10 Colour Spaceboy Pen</td>\n",
       "      <td>11.12</td>\n",
       "    </tr>\n",
       "    <tr>\n",
       "      <th>534531</th>\n",
       "      <td>2018-12-01</td>\n",
       "      <td>22418</td>\n",
       "      <td>10 Colour Spaceboy Pen</td>\n",
       "      <td>11.12</td>\n",
       "    </tr>\n",
       "    <tr>\n",
       "      <th>534759</th>\n",
       "      <td>2018-12-01</td>\n",
       "      <td>22418</td>\n",
       "      <td>10 Colour Spaceboy Pen</td>\n",
       "      <td>11.95</td>\n",
       "    </tr>\n",
       "    <tr>\n",
       "      <th>535239</th>\n",
       "      <td>2018-12-01</td>\n",
       "      <td>22418</td>\n",
       "      <td>10 Colour Spaceboy Pen</td>\n",
       "      <td>11.12</td>\n",
       "    </tr>\n",
       "    <tr>\n",
       "      <th>531338</th>\n",
       "      <td>2018-12-02</td>\n",
       "      <td>22418</td>\n",
       "      <td>10 Colour Spaceboy Pen</td>\n",
       "      <td>11.12</td>\n",
       "    </tr>\n",
       "  </tbody>\n",
       "</table>\n",
       "</div>"
      ],
      "text/plain": [
       "             date product_id                    name  price\n",
       "533683 2018-12-01      22418  10 Colour Spaceboy Pen  11.12\n",
       "534531 2018-12-01      22418  10 Colour Spaceboy Pen  11.12\n",
       "534759 2018-12-01      22418  10 Colour Spaceboy Pen  11.95\n",
       "535239 2018-12-01      22418  10 Colour Spaceboy Pen  11.12\n",
       "531338 2018-12-02      22418  10 Colour Spaceboy Pen  11.12"
      ]
     },
     "execution_count": 23,
     "metadata": {},
     "output_type": "execute_result"
    }
   ],
   "source": [
    "df[[\"date\",\"product_id\", \"name\", \"price\"]].sort_values(by=[\"name\", \"date\"]).head()"
   ]
  },
  {
   "cell_type": "markdown",
   "id": "8f04399b-786d-49c2-a740-1e74634c489f",
   "metadata": {},
   "source": [
    "#### Sum the quantity if identical transactions occur"
   ]
  },
  {
   "cell_type": "code",
   "execution_count": 24,
   "id": "2911eeaa-21d2-4a4c-afc1-26825fe2d414",
   "metadata": {},
   "outputs": [
    {
     "data": {
      "text/plain": [
       "pandas.core.groupby.generic.SeriesGroupBy"
      ]
     },
     "execution_count": 24,
     "metadata": {},
     "output_type": "execute_result"
    }
   ],
   "source": [
    "type(df.groupby([\"transaction_id\", \"date\", \"product_id\", \"name\", \"price\", \"customer_id\", \"country\"])[\"quantity\"])"
   ]
  },
  {
   "cell_type": "code",
   "execution_count": 25,
   "id": "a77ef4d8-ccaf-4a13-901a-6ca93406d2e5",
   "metadata": {},
   "outputs": [
    {
     "data": {
      "text/html": [
       "<div>\n",
       "<style scoped>\n",
       "    .dataframe tbody tr th:only-of-type {\n",
       "        vertical-align: middle;\n",
       "    }\n",
       "\n",
       "    .dataframe tbody tr th {\n",
       "        vertical-align: top;\n",
       "    }\n",
       "\n",
       "    .dataframe thead th {\n",
       "        text-align: right;\n",
       "    }\n",
       "</style>\n",
       "<table border=\"1\" class=\"dataframe\">\n",
       "  <thead>\n",
       "    <tr style=\"text-align: right;\">\n",
       "      <th></th>\n",
       "      <th>transaction_id</th>\n",
       "      <th>date</th>\n",
       "      <th>product_id</th>\n",
       "      <th>name</th>\n",
       "      <th>price</th>\n",
       "      <th>quantity</th>\n",
       "      <th>customer_id</th>\n",
       "      <th>country</th>\n",
       "    </tr>\n",
       "  </thead>\n",
       "  <tbody>\n",
       "    <tr>\n",
       "      <th>35015</th>\n",
       "      <td>579171</td>\n",
       "      <td>2019-11-28</td>\n",
       "      <td>22897</td>\n",
       "      <td>Oven Mitt Apples Design</td>\n",
       "      <td>6.19</td>\n",
       "      <td>4</td>\n",
       "      <td>13030</td>\n",
       "      <td>United Kingdom</td>\n",
       "    </tr>\n",
       "    <tr>\n",
       "      <th>35040</th>\n",
       "      <td>579171</td>\n",
       "      <td>2019-11-28</td>\n",
       "      <td>22897</td>\n",
       "      <td>Oven Mitt Apples Design</td>\n",
       "      <td>6.19</td>\n",
       "      <td>2</td>\n",
       "      <td>13030</td>\n",
       "      <td>United Kingdom</td>\n",
       "    </tr>\n",
       "  </tbody>\n",
       "</table>\n",
       "</div>"
      ],
      "text/plain": [
       "       transaction_id       date product_id                     name  price  \\\n",
       "35015          579171 2019-11-28      22897  Oven Mitt Apples Design   6.19   \n",
       "35040          579171 2019-11-28      22897  Oven Mitt Apples Design   6.19   \n",
       "\n",
       "       quantity  customer_id         country  \n",
       "35015         4        13030  United Kingdom  \n",
       "35040         2        13030  United Kingdom  "
      ]
     },
     "execution_count": 25,
     "metadata": {},
     "output_type": "execute_result"
    }
   ],
   "source": [
    "df.loc[\n",
    "    (df[\"transaction_id\"] == 579171) &\n",
    "    (df[\"product_id\"] == \"22897\")\n",
    "]"
   ]
  },
  {
   "cell_type": "code",
   "execution_count": 26,
   "id": "58f2a5d7-3420-4e4d-b98b-1eb86f425abd",
   "metadata": {},
   "outputs": [],
   "source": [
    "df = df.groupby([\"transaction_id\", \"date\", \"product_id\", \"name\", \"price\", \"customer_id\", \"country\"])[\"quantity\"].sum().reset_index()"
   ]
  },
  {
   "cell_type": "code",
   "execution_count": 27,
   "id": "b08aa6ad-b894-42f7-b429-35b56a65b8ee",
   "metadata": {},
   "outputs": [
    {
     "data": {
      "text/html": [
       "<div>\n",
       "<style scoped>\n",
       "    .dataframe tbody tr th:only-of-type {\n",
       "        vertical-align: middle;\n",
       "    }\n",
       "\n",
       "    .dataframe tbody tr th {\n",
       "        vertical-align: top;\n",
       "    }\n",
       "\n",
       "    .dataframe thead th {\n",
       "        text-align: right;\n",
       "    }\n",
       "</style>\n",
       "<table border=\"1\" class=\"dataframe\">\n",
       "  <thead>\n",
       "    <tr style=\"text-align: right;\">\n",
       "      <th></th>\n",
       "      <th>transaction_id</th>\n",
       "      <th>date</th>\n",
       "      <th>product_id</th>\n",
       "      <th>name</th>\n",
       "      <th>price</th>\n",
       "      <th>customer_id</th>\n",
       "      <th>country</th>\n",
       "      <th>quantity</th>\n",
       "    </tr>\n",
       "  </thead>\n",
       "  <tbody>\n",
       "    <tr>\n",
       "      <th>484529</th>\n",
       "      <td>579171</td>\n",
       "      <td>2019-11-28</td>\n",
       "      <td>22897</td>\n",
       "      <td>Oven Mitt Apples Design</td>\n",
       "      <td>6.19</td>\n",
       "      <td>13030</td>\n",
       "      <td>United Kingdom</td>\n",
       "      <td>6</td>\n",
       "    </tr>\n",
       "  </tbody>\n",
       "</table>\n",
       "</div>"
      ],
      "text/plain": [
       "        transaction_id       date product_id                     name  price  \\\n",
       "484529          579171 2019-11-28      22897  Oven Mitt Apples Design   6.19   \n",
       "\n",
       "        customer_id         country  quantity  \n",
       "484529        13030  United Kingdom         6  "
      ]
     },
     "execution_count": 27,
     "metadata": {},
     "output_type": "execute_result"
    }
   ],
   "source": [
    "df.loc[\n",
    "    (df[\"transaction_id\"] == 579171) &\n",
    "    (df[\"product_id\"] == \"22897\")\n",
    "]"
   ]
  },
  {
   "cell_type": "markdown",
   "id": "84573a3c-5fae-4f20-b7cd-70becb2983a0",
   "metadata": {},
   "source": [
    "#### Enriching Data"
   ]
  },
  {
   "cell_type": "code",
   "execution_count": 28,
   "id": "eeb845ad-c67c-4a90-9e3f-ce33bc44834d",
   "metadata": {},
   "outputs": [],
   "source": [
    "df[\"year\"] = df['date'].dt.year\n",
    "df['quarter'] = df['date'].dt.quarter\n",
    "df['month'] = df['date'].dt.month\n",
    "df['week'] = df['date'].dt.isocalendar().week\n",
    "df[\"day\"] = df['date'].dt.day\n",
    "df[\"day_name\"] = df['date'].dt.day_name()"
   ]
  },
  {
   "cell_type": "code",
   "execution_count": 29,
   "id": "be99e88b-8752-4db2-a9c4-146c20fced2e",
   "metadata": {},
   "outputs": [],
   "source": [
    "country_id = df[\"country\"].str.upper().str.slice(stop=3) + df[\"country\"].str.len().astype(str)\n",
    "df[\"country_id\"] = country_id"
   ]
  },
  {
   "cell_type": "code",
   "execution_count": 30,
   "id": "e74fc3b2-7d61-4aaa-9136-d0249fc83881",
   "metadata": {},
   "outputs": [
    {
     "data": {
      "text/plain": [
       "transaction_id             int64\n",
       "date              datetime64[ns]\n",
       "product_id                object\n",
       "name                      object\n",
       "price                    float64\n",
       "customer_id                int64\n",
       "country                   object\n",
       "quantity                   int64\n",
       "year                       int64\n",
       "quarter                    int64\n",
       "month                      int64\n",
       "week                      UInt32\n",
       "day                        int64\n",
       "day_name                  object\n",
       "country_id                object\n",
       "dtype: object"
      ]
     },
     "execution_count": 30,
     "metadata": {},
     "output_type": "execute_result"
    }
   ],
   "source": [
    "df.dtypes"
   ]
  },
  {
   "cell_type": "markdown",
   "id": "92b4b2a0-31f9-4544-ac1e-dae6b6b88463",
   "metadata": {},
   "source": [
    "#### Load"
   ]
  },
  {
   "cell_type": "code",
   "execution_count": 32,
   "id": "857ecef8-84fc-49ef-a91e-73d1dba1c181",
   "metadata": {},
   "outputs": [],
   "source": [
    "from sqlalchemy import create_engine, text\n",
    "import psycopg2"
   ]
  },
  {
   "cell_type": "code",
   "execution_count": 33,
   "id": "c9a3fcbd-9707-49ca-8d22-cb11a357d398",
   "metadata": {},
   "outputs": [],
   "source": [
    "try:\n",
    "    conn = psycopg2.connect(\"host = localhost dbname = postgres user = sakar_ password = sakar10\") #connecting to the default database\n",
    "except psycopg2.Error as e :\n",
    "    print(\"error, couldnt connect to database\")\n",
    "    print(e)\n",
    "conn.set_session(autocommit = True) # any changes we make from here will be updated automatically in the database\n",
    "curr = conn.cursor()"
   ]
  },
  {
   "cell_type": "code",
   "execution_count": 34,
   "id": "ff840f21-f2be-46df-a02b-987ed1883e40",
   "metadata": {},
   "outputs": [],
   "source": [
    "curr.execute(\"CREATE DATABASE sales_db\")   # creating our database in postgres\n",
    "conn.close()   # closing connection to the default database"
   ]
  },
  {
   "cell_type": "code",
   "execution_count": 35,
   "id": "721f89bc-f934-4cbf-b9dd-f209a86628fe",
   "metadata": {},
   "outputs": [],
   "source": [
    "try:\n",
    "    conn = psycopg2.connect(\"host = localhost dbname = sales_db user = sakar_ password = sakar10\") # connecting to our new database\n",
    "except psycopg2.Error as e :\n",
    "    print(\"error, couldnt connect to database\")\n",
    "    print(e)\n",
    "conn.set_session(autocommit = True)\n",
    "curr = conn.cursor() # creating a cursor to be able to communicate to our database"
   ]
  },
  {
   "cell_type": "markdown",
   "id": "ef1cd0fe-462a-4524-8932-632187d70575",
   "metadata": {},
   "source": [
    "#### Generate Keys for all dimensional tables"
   ]
  },
  {
   "cell_type": "code",
   "execution_count": 36,
   "id": "a87d18f2-13ed-48f3-bdfd-e4d527ed4dfb",
   "metadata": {},
   "outputs": [
    {
     "name": "stdout",
     "output_type": "stream",
     "text": [
      "<class 'pandas.core.frame.DataFrame'>\n",
      "RangeIndex: 4718 entries, 0 to 4717\n",
      "Data columns (total 2 columns):\n",
      " #   Column        Non-Null Count  Dtype\n",
      "---  ------        --------------  -----\n",
      " 0   customer_id   4718 non-null   int64\n",
      " 1   customer_key  4718 non-null   int64\n",
      "dtypes: int64(2)\n",
      "memory usage: 73.8 KB\n"
     ]
    }
   ],
   "source": [
    "df_customer = df[[\"customer_id\"]].drop_duplicates().sort_values(by=\"customer_id\")\n",
    "df_customer = df_customer.reset_index(drop=True)\n",
    "df_customer[\"customer_key\"] = df_customer.index\n",
    "df_customer.info()"
   ]
  },
  {
   "cell_type": "code",
   "execution_count": 37,
   "id": "f9bba5a6-26f6-477b-9dd1-82fafe1652e9",
   "metadata": {},
   "outputs": [
    {
     "name": "stdout",
     "output_type": "stream",
     "text": [
      "<class 'pandas.core.frame.DataFrame'>\n",
      "RangeIndex: 19789 entries, 0 to 19788\n",
      "Data columns (total 2 columns):\n",
      " #   Column           Non-Null Count  Dtype\n",
      "---  ------           --------------  -----\n",
      " 0   transaction_id   19789 non-null  int64\n",
      " 1   transaction_key  19789 non-null  int64\n",
      "dtypes: int64(2)\n",
      "memory usage: 309.3 KB\n"
     ]
    }
   ],
   "source": [
    "df_transaction = df[[\"transaction_id\"]].drop_duplicates().sort_values(by=\"transaction_id\")\n",
    "df_transaction = df_transaction.reset_index(drop=True)\n",
    "df_transaction[\"transaction_key\"] = df_transaction.index\n",
    "df_transaction.info()"
   ]
  },
  {
   "cell_type": "code",
   "execution_count": 38,
   "id": "dba50744-96ca-4914-8c39-b544c5555e9f",
   "metadata": {},
   "outputs": [
    {
     "name": "stdout",
     "output_type": "stream",
     "text": [
      "<class 'pandas.core.frame.DataFrame'>\n",
      "RangeIndex: 305 entries, 0 to 304\n",
      "Data columns (total 8 columns):\n",
      " #   Column    Non-Null Count  Dtype         \n",
      "---  ------    --------------  -----         \n",
      " 0   date      305 non-null    datetime64[ns]\n",
      " 1   year      305 non-null    int64         \n",
      " 2   quarter   305 non-null    int64         \n",
      " 3   month     305 non-null    int64         \n",
      " 4   week      305 non-null    UInt32        \n",
      " 5   day       305 non-null    int64         \n",
      " 6   day_name  305 non-null    object        \n",
      " 7   date_key  305 non-null    int64         \n",
      "dtypes: UInt32(1), datetime64[ns](1), int64(5), object(1)\n",
      "memory usage: 18.3+ KB\n"
     ]
    }
   ],
   "source": [
    "df_date = df[[\"date\", \"year\", \"quarter\", \"month\", \"week\", \"day\", \"day_name\"]].drop_duplicates().sort_values(by=\"date\")\n",
    "df_date = df_date.reset_index(drop=True)\n",
    "df_date[\"date_key\"] = df_date.index\n",
    "df_date.info()"
   ]
  },
  {
   "cell_type": "code",
   "execution_count": 39,
   "id": "a08d1801-add9-4bb1-b6c6-cae0fe71f56c",
   "metadata": {},
   "outputs": [
    {
     "name": "stdout",
     "output_type": "stream",
     "text": [
      "<class 'pandas.core.frame.DataFrame'>\n",
      "RangeIndex: 38 entries, 0 to 37\n",
      "Data columns (total 3 columns):\n",
      " #   Column       Non-Null Count  Dtype \n",
      "---  ------       --------------  ----- \n",
      " 0   country      38 non-null     object\n",
      " 1   country_id   38 non-null     object\n",
      " 2   country_key  38 non-null     int64 \n",
      "dtypes: int64(1), object(2)\n",
      "memory usage: 1.0+ KB\n"
     ]
    }
   ],
   "source": [
    "df_country = df[[\"country\", \"country_id\"] ].drop_duplicates().sort_values(by=\"country_id\")\n",
    "df_country = df_country.reset_index(drop=True)\n",
    "df_country[\"country_key\"] = df_country.index\n",
    "df_country.info()"
   ]
  },
  {
   "cell_type": "code",
   "execution_count": 40,
   "id": "e06374d5-4ed7-494d-9094-eb0c5cb262ab",
   "metadata": {},
   "outputs": [
    {
     "name": "stdout",
     "output_type": "stream",
     "text": [
      "<class 'pandas.core.frame.DataFrame'>\n",
      "Int64Index: 23498 entries, 492120 to 401712\n",
      "Data columns (total 4 columns):\n",
      " #   Column       Non-Null Count  Dtype  \n",
      "---  ------       --------------  -----  \n",
      " 0   product_id   23498 non-null  object \n",
      " 1   name         23498 non-null  object \n",
      " 2   price        23498 non-null  float64\n",
      " 3   product_key  23498 non-null  int64  \n",
      "dtypes: float64(1), int64(1), object(2)\n",
      "memory usage: 917.9+ KB\n"
     ]
    }
   ],
   "source": [
    "df_product = df[['product_id', \"name\", \"price\"]]\n",
    "unique_product = df_product.drop_duplicates().sort_values(by=[\"name\", \"price\"])\n",
    "unique_product = unique_product.reset_index(drop=True)\n",
    "unique_product[\"product_key\"] = unique_product.index\n",
    "\n",
    "df_unique_product = pd.merge(df_product, unique_product, on=[\"product_id\", \"name\", \"price\"]).sort_values(by=[\"name\", \"price\"]).drop_duplicates()\n",
    "df_unique_product.info()"
   ]
  },
  {
   "cell_type": "code",
   "execution_count": null,
   "id": "c104d968-b2fb-442f-b772-9dd818645aa4",
   "metadata": {},
   "outputs": [],
   "source": []
  },
  {
   "cell_type": "markdown",
   "id": "83540061-201b-492a-98bf-d78dbfbe0071",
   "metadata": {},
   "source": [
    "#### Join to all fact_table"
   ]
  },
  {
   "cell_type": "code",
   "execution_count": 41,
   "id": "a21a6295-551b-40e4-ad69-9c7e163858a1",
   "metadata": {},
   "outputs": [],
   "source": [
    "result = pd.merge(df, df_customer, on=\"customer_id\")\n",
    "result = pd.merge(result, df_transaction, on=\"transaction_id\")\n",
    "result = pd.merge(result, df_date, on=[\"date\", \"year\", \"quarter\", \"month\", \"week\", \"day\", \"day_name\"])\n",
    "result = pd.merge(result,df_country, on=[\"country_id\", \"country\"])\n",
    "result = pd.merge(result, df_unique_product, on=[\"product_id\", \"name\", \"price\"])"
   ]
  },
  {
   "cell_type": "code",
   "execution_count": 42,
   "id": "de7a8816-9dab-4309-a7eb-0c32f71cf7e8",
   "metadata": {},
   "outputs": [
    {
     "name": "stdout",
     "output_type": "stream",
     "text": [
      "<class 'pandas.core.frame.DataFrame'>\n",
      "Int64Index: 517897 entries, 0 to 517896\n",
      "Data columns (total 20 columns):\n",
      " #   Column           Non-Null Count   Dtype         \n",
      "---  ------           --------------   -----         \n",
      " 0   transaction_id   517897 non-null  int64         \n",
      " 1   date             517897 non-null  datetime64[ns]\n",
      " 2   product_id       517897 non-null  object        \n",
      " 3   name             517897 non-null  object        \n",
      " 4   price            517897 non-null  float64       \n",
      " 5   customer_id      517897 non-null  int64         \n",
      " 6   country          517897 non-null  object        \n",
      " 7   quantity         517897 non-null  int64         \n",
      " 8   year             517897 non-null  int64         \n",
      " 9   quarter          517897 non-null  int64         \n",
      " 10  month            517897 non-null  int64         \n",
      " 11  week             517897 non-null  UInt32        \n",
      " 12  day              517897 non-null  int64         \n",
      " 13  day_name         517897 non-null  object        \n",
      " 14  country_id       517897 non-null  object        \n",
      " 15  customer_key     517897 non-null  int64         \n",
      " 16  transaction_key  517897 non-null  int64         \n",
      " 17  date_key         517897 non-null  int64         \n",
      " 18  country_key      517897 non-null  int64         \n",
      " 19  product_key      517897 non-null  int64         \n",
      "dtypes: UInt32(1), datetime64[ns](1), float64(1), int64(12), object(5)\n",
      "memory usage: 81.5+ MB\n"
     ]
    }
   ],
   "source": [
    "result.info()"
   ]
  },
  {
   "cell_type": "markdown",
   "id": "81039c7a-14c7-40ba-ae89-f985806ad78c",
   "metadata": {},
   "source": [
    "#### Add col and Load dim table to postgres"
   ]
  },
  {
   "cell_type": "code",
   "execution_count": 43,
   "id": "78390e68-7b92-442e-a80e-2b97368041e8",
   "metadata": {},
   "outputs": [
    {
     "name": "stdout",
     "output_type": "stream",
     "text": [
      "<class 'pandas.core.frame.DataFrame'>\n",
      "RangeIndex: 4718 entries, 0 to 4717\n",
      "Data columns (total 2 columns):\n",
      " #   Column        Non-Null Count  Dtype\n",
      "---  ------        --------------  -----\n",
      " 0   customer_id   4718 non-null   int64\n",
      " 1   customer_key  4718 non-null   int64\n",
      "dtypes: int64(2)\n",
      "memory usage: 73.8 KB\n"
     ]
    }
   ],
   "source": [
    "df_customer.info()"
   ]
  },
  {
   "cell_type": "code",
   "execution_count": null,
   "id": "f459534c-7ac2-4f9c-b401-453f33337556",
   "metadata": {},
   "outputs": [],
   "source": []
  },
  {
   "cell_type": "code",
   "execution_count": null,
   "id": "70f342b2-83a7-4b7a-a20f-cc6f4300f5f9",
   "metadata": {},
   "outputs": [],
   "source": []
  }
 ],
 "metadata": {
  "kernelspec": {
   "display_name": "Python 3 (ipykernel)",
   "language": "python",
   "name": "python3"
  },
  "language_info": {
   "codemirror_mode": {
    "name": "ipython",
    "version": 3
   },
   "file_extension": ".py",
   "mimetype": "text/x-python",
   "name": "python",
   "nbconvert_exporter": "python",
   "pygments_lexer": "ipython3",
   "version": "3.8.10"
  }
 },
 "nbformat": 4,
 "nbformat_minor": 5
}
