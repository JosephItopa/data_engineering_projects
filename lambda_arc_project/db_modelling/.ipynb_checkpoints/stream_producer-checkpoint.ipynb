{
 "cells": [
  {
   "cell_type": "code",
   "execution_count": null,
   "id": "64a69375-7288-4c75-b47a-534b1efff2d9",
   "metadata": {},
   "outputs": [],
   "source": [
    "from kafka import kafkaProducer"
   ]
  },
  {
   "cell_type": "code",
   "execution_count": null,
   "id": "4335e0df-d367-4072-86f6-50fa16e3d1f1",
   "metadata": {},
   "outputs": [],
   "source": [
    "bootstrap_servers = ['localhost: 29092']\n",
    "topicName = 'test'\n",
    "producer = kafkaProducer(bootstrap_servers = bootstrap_servers)"
   ]
  },
  {
   "cell_type": "code",
   "execution_count": null,
   "id": "22cea4b3-0487-47ac-865b-82672683894b",
   "metadata": {},
   "outputs": [],
   "source": [
    "producer.send(topicName, b'First Message')\n",
    "print(\"message sent\")"
   ]
  },
  {
   "cell_type": "code",
   "execution_count": null,
   "id": "3f7235df-c954-4744-866f-79b57bc9215a",
   "metadata": {},
   "outputs": [],
   "source": []
  },
  {
   "cell_type": "code",
   "execution_count": null,
   "id": "d0108a2a-e0de-428f-93cd-64a66747a017",
   "metadata": {},
   "outputs": [],
   "source": []
  }
 ],
 "metadata": {
  "kernelspec": {
   "display_name": "Python 3 (ipykernel)",
   "language": "python",
   "name": "python3"
  },
  "language_info": {
   "codemirror_mode": {
    "name": "ipython",
    "version": 3
   },
   "file_extension": ".py",
   "mimetype": "text/x-python",
   "name": "python",
   "nbconvert_exporter": "python",
   "pygments_lexer": "ipython3",
   "version": "3.8.10"
  }
 },
 "nbformat": 4,
 "nbformat_minor": 5
}
