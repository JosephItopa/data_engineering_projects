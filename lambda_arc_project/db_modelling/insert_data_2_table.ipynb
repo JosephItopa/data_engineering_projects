{
 "cells": [
  {
   "cell_type": "code",
   "execution_count": null,
   "id": "a66d6864-0cdf-4a77-b6b0-0e3005e7a94f",
   "metadata": {},
   "outputs": [],
   "source": [
    "pwdd = \"postgres\"\n",
    "uidd = \"postgres\"\n",
    "dserver = \"localhost\"\n",
    "ddb = \"adventureworks\"\n",
    "dport = \"5434\""
   ]
  },
  {
   "cell_type": "code",
   "execution_count": null,
   "id": "013f3ac0-ec68-4cef-9c80-6498674c8aa4",
   "metadata": {},
   "outputs": [],
   "source": [
    "dengine = create_engine(f'postgresql://{uidd}: {pwdd}@{dserver}:{dport}/{ddb}')"
   ]
  },
  {
   "cell_type": "code",
   "execution_count": null,
   "id": "d83181da-e9b3-47c4-85ef-e851d1404919",
   "metadata": {},
   "outputs": [],
   "source": [
    "df.sql('factinternetsales_streaming', con=dengine, if_exists='replace', index=False)"
   ]
  },
  {
   "cell_type": "code",
   "execution_count": null,
   "id": "1bcd7ec2-68fe-43de-a8d1-b2c2849c02b6",
   "metadata": {},
   "outputs": [],
   "source": [
    "for index, row in df.loc[100:150].itterows():\n",
    "    mod = pd.DataFrame(row.to_frame().T)\n",
    "    mod.to_sql(f'factinternetsales_streaming', engine, if_exists = \"append\", index = False)\n",
    "    print(\"Row Inserted\" + mod.salesordernumber.astype(str), + ' ' + mod.salesamount.astype(str).astype(str))\n",
    "    time.sleep(3)"
   ]
  }
 ],
 "metadata": {
  "kernelspec": {
   "display_name": "Python 3 (ipykernel)",
   "language": "python",
   "name": "python3"
  },
  "language_info": {
   "codemirror_mode": {
    "name": "ipython",
    "version": 3
   },
   "file_extension": ".py",
   "mimetype": "text/x-python",
   "name": "python",
   "nbconvert_exporter": "python",
   "pygments_lexer": "ipython3",
   "version": "3.8.10"
  }
 },
 "nbformat": 4,
 "nbformat_minor": 5
}
