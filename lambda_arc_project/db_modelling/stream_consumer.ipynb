{
 "cells": [
  {
   "cell_type": "code",
   "execution_count": null,
   "id": "b447ae8e-e557-43ce-87d1-f4a6a4034ec3",
   "metadata": {},
   "outputs": [],
   "source": [
    "from kafka import kafkaConsumer\n",
    "bootstrap_servers = ['localhost:29002']\n",
    "topicName = 'test'\n",
    "consumer = kafkaConsumer(topicName, auto_offset_reset = 'earliest', bootstrap_servers = bootstrap_servers)"
   ]
  },
  {
   "cell_type": "code",
   "execution_count": null,
   "id": "5c57c401-e3a5-43a5-a3a0-33f5f51f5a08",
   "metadata": {},
   "outputs": [],
   "source": [
    "for msg in consumer:\n",
    "    print(\"Topic Name = %s, Message = %s%(msg.topic, msg.value))"
   ]
  },
  {
   "cell_type": "code",
   "execution_count": null,
   "id": "a7fea036-635b-4687-9fd9-528129af7051",
   "metadata": {},
   "outputs": [],
   "source": []
  },
  {
   "cell_type": "code",
   "execution_count": null,
   "id": "ec415a45-c428-4d14-a82a-80059523a531",
   "metadata": {},
   "outputs": [],
   "source": []
  },
  {
   "cell_type": "code",
   "execution_count": null,
   "id": "c08ef134-69b5-4343-85f5-132269f56399",
   "metadata": {},
   "outputs": [],
   "source": []
  }
 ],
 "metadata": {
  "kernelspec": {
   "display_name": "Python 3 (ipykernel)",
   "language": "python",
   "name": "python3"
  },
  "language_info": {
   "codemirror_mode": {
    "name": "ipython",
    "version": 3
   },
   "file_extension": ".py",
   "mimetype": "text/x-python",
   "name": "python",
   "nbconvert_exporter": "python",
   "pygments_lexer": "ipython3",
   "version": "3.8.10"
  }
 },
 "nbformat": 4,
 "nbformat_minor": 5
}
